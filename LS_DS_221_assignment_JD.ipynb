{
  "cells": [
    {
      "cell_type": "markdown",
      "metadata": {
        "id": "pvXNzm4BkWpr"
      },
      "source": [
        "BloomTech Data Science\n",
        "\n",
        "*Unit 2, Sprint 2, Module 1*\n",
        "\n",
        "---"
      ]
    },
    {
      "cell_type": "code",
      "execution_count": null,
      "metadata": {
        "id": "tB4wqXqkkWpw"
      },
      "outputs": [],
      "source": [
        "%%capture\n",
        "import sys\n",
        "\n",
        "# If you're on Colab:\n",
        "if 'google.colab' in sys.modules:\n",
        "    DATA_PATH = 'https://raw.githubusercontent.com/LambdaSchool/DS-Unit-2-Kaggle-Challenge/main/data/'\n",
        "    !pip install category_encoders==2.*\n",
        "    !pip install pandas-profiling==2.*\n",
        "    \n",
        "# If you're working locally:\n",
        "else:\n",
        "    DATA_PATH = '../data/'"
      ]
    },
    {
      "cell_type": "markdown",
      "metadata": {
        "id": "pljOZBz4kWpy"
      },
      "source": [
        "# Module Project: Decision Trees\n",
        "\n",
        "This week, the module projects will focus on creating and improving a model for the Tanazania Water Pump dataset. Your goal is to create a model to predict whether a water pump is functional, non-functional, or needs repair.\n",
        "\n",
        "Dataset source: [DrivenData.org](https://www.drivendata.org/competitions/7/pump-it-up-data-mining-the-water-table/).\n",
        "\n",
        "## Directions\n",
        "\n",
        "The tasks for this project are as follows:\n",
        "\n",
        "- **Task 1:** Sign up for a [Kaggle](https://www.kaggle.com/) account.\n",
        "- **Task 2:** Use `wrangle` function to import training and test data.\n",
        "- **Task 3:** Split training data into feature matrix `X` and target vector `y`.\n",
        "- **Task 4:** Split feature matrix `X` and target vector `y` into training and test sets.\n",
        "- **Task 5:** Establish the baseline accuracy score for your dataset.\n",
        "- **Task 6:** Build and train `model_dt`.\n",
        "- **Task 7:** Calculate the training and validation accuracy score for your model.\n",
        "- **Task 8:** Adjust model's `max_depth` to reduce overfitting.\n",
        "- **Task 9 `stretch goal`:** Create a horizontal bar chart showing the 10 most important features for your model.\n",
        "\n",
        "You should limit yourself to the following libraries for this project:\n",
        "\n",
        "- `category_encoders`\n",
        "- `matplotlib`\n",
        "- `pandas`\n",
        "- `pandas-profiling`\n",
        "- `sklearn`"
      ]
    },
    {
      "cell_type": "code",
      "source": [
        "#Connect to remote data\n",
        "from google.colab import drive\n",
        "drive.mount('/content/drive', force_remount=True)\n",
        "%cd /content/drive/My Drive/Kaggle\n",
        "#%ls "
      ],
      "metadata": {
        "colab": {
          "base_uri": "https://localhost:8080/"
        },
        "id": "oSV-RaXPs8xu",
        "outputId": "a841c848-d817-48b3-f164-b8fe8ae75867"
      },
      "execution_count": null,
      "outputs": [
        {
          "output_type": "stream",
          "name": "stdout",
          "text": [
            "Mounted at /content/drive\n",
            "/content/drive/My Drive/Kaggle\n"
          ]
        }
      ]
    },
    {
      "cell_type": "markdown",
      "metadata": {
        "id": "mtNoyZcVkWpz"
      },
      "source": [
        "# Kaggle\n",
        "\n",
        "**Task 1:** [Sign up for a Kaggle account](https://www.kaggle.com/), if you don’t already have one. **We recommend that you choose a username that's based on your name, since you might include it in your resume in the future.** Go to our Kaggle InClass competition website (the URL is in Slack). Go to the **Rules** page. Accept the rules of the competition. Notice that the **Rules** page also has instructions for the Submission process. The **Data** page has feature definitions.\n",
        "\n",
        "# I. Wrangle Data"
      ]
    },
    {
      "cell_type": "code",
      "source": [
        "# Import Block\n",
        "import pandas as pd\n",
        "import numpy as np\n",
        "from sklearn.model_selection import train_test_split\n",
        "from sklearn.dummy import DummyClassifier\n",
        "from sklearn.pipeline import make_pipeline\n",
        "from category_encoders import OrdinalEncoder\n",
        "from sklearn.impute import SimpleImputer\n",
        "from sklearn.tree import DecisionTreeClassifier\n",
        "from sklearn.metrics import accuracy_score\n",
        "import matplotlib.pyplot as plt"
      ],
      "metadata": {
        "id": "7KNDhPx_lKsU",
        "colab": {
          "base_uri": "https://localhost:8080/"
        },
        "outputId": "be2ad013-f255-4fe8-85ea-5c6c530b4ac0"
      },
      "execution_count": null,
      "outputs": [
        {
          "output_type": "stream",
          "name": "stderr",
          "text": [
            "/usr/local/lib/python3.7/dist-packages/statsmodels/tools/_testing.py:19: FutureWarning: pandas.util.testing is deprecated. Use the functions in the public API at pandas.testing instead.\n",
            "  import pandas.util.testing as tm\n"
          ]
        }
      ]
    },
    {
      "cell_type": "code",
      "execution_count": null,
      "metadata": {
        "id": "b6NASR01kWp0"
      },
      "outputs": [],
      "source": [
        "def wrangle(fm_path, tv_path=None):\n",
        "    if tv_path:\n",
        "        df = pd.merge(pd.read_csv(fm_path, \n",
        "                                  na_values=[0, -2.000000e-08]),\n",
        "                      pd.read_csv(tv_path)).set_index('id')\n",
        "    else:\n",
        "        df = pd.read_csv(fm_path, \n",
        "                         na_values=[0, -2.000000e-08],\n",
        "                         index_col='id')\n",
        "\n",
        "    # Drop duplicate columns\n",
        "    #automatic method is too unreliable\n",
        "    #dupe_cols = [col for col in df.head(50).T.duplicated().index\n",
        "    #             if df.head(50).T.duplicated()[col]]\n",
        "    dupe_cols = ['subvillage', 'region', 'extraction_type_group', 'payment', \n",
        "                 'quality_group', 'quantity_group', 'source_type', 'waterpoint_type_group']\n",
        "    df.drop(columns=dupe_cols, inplace=True)    \n",
        "\n",
        "    # Drop constant columns\n",
        "    df.drop(columns=['recorded_by'], inplace=True)\n",
        "\n",
        "    # Drop HCCCs\n",
        "    cutoff = 100\n",
        "    drop_cols = [col for col in df.select_dtypes('object').columns\n",
        "                 if df[col].nunique() > cutoff]\n",
        "    df.drop(columns=drop_cols, inplace=True)   \n",
        "\n",
        "    return df"
      ]
    },
    {
      "cell_type": "markdown",
      "metadata": {
        "id": "jthbME11kWp1"
      },
      "source": [
        "**Task 1:** Using the `wrangle` function above, read the `train_features.csv` and  `train_labels.csv` files into the DataFrame `df`. Next, use the same function to read the test set `test_features.csv` into the DataFrame `X_test`."
      ]
    },
    {
      "cell_type": "code",
      "execution_count": null,
      "metadata": {
        "id": "TNYnDKU_kWp1",
        "colab": {
          "base_uri": "https://localhost:8080/"
        },
        "outputId": "314f7bb3-de14-414b-92cf-1f72dab610c2"
      },
      "outputs": [
        {
          "output_type": "stream",
          "name": "stdout",
          "text": [
            "         amount_tsh  gps_height  longitude  latitude  num_private  \\\n",
            "id                                                                  \n",
            "454.0          50.0      2092.0  35.426020 -4.227446          NaN   \n",
            "510.0           NaN         NaN  35.510074 -5.724555          NaN   \n",
            "14146.0         NaN         NaN  32.499866 -9.081222          NaN   \n",
            "47410.0         NaN         NaN  34.060484 -8.830208          NaN   \n",
            "1288.0        300.0      1023.0  37.032690 -6.040787          NaN   \n",
            "\n",
            "               basin  region_code  district_code  population public_meeting  \\\n",
            "id                                                                            \n",
            "454.0       Internal           21            1.0       160.0           True   \n",
            "510.0       Internal            1            6.0         NaN           True   \n",
            "14146.0   Lake Rukwa           12            6.0         NaN           True   \n",
            "47410.0       Rufiji           12            7.0         NaN           True   \n",
            "1288.0   Wami / Ruvu            5            1.0       120.0           True   \n",
            "\n",
            "         ... extraction_type_class   management  management_group  \\\n",
            "id       ...                                                        \n",
            "454.0    ...               gravity  water board        user-group   \n",
            "510.0    ...              handpump          vwc        user-group   \n",
            "14146.0  ...                 other          vwc        user-group   \n",
            "47410.0  ...               gravity          vwc        user-group   \n",
            "1288.0   ...                 other          vwc        user-group   \n",
            "\n",
            "        payment_type water_quality      quantity        source source_class  \\\n",
            "id                                                                            \n",
            "454.0     per bucket          soft  insufficient        spring  groundwater   \n",
            "510.0      never pay          soft        enough  shallow well  groundwater   \n",
            "14146.0    never pay          soft        enough  shallow well  groundwater   \n",
            "47410.0      monthly          soft  insufficient         river      surface   \n",
            "1288.0    on failure         salty        enough  shallow well  groundwater   \n",
            "\n",
            "            waterpoint_type    status_group  \n",
            "id                                           \n",
            "454.0    communal standpipe      functional  \n",
            "510.0             hand pump      functional  \n",
            "14146.0               other  non functional  \n",
            "47410.0  communal standpipe  non functional  \n",
            "1288.0                other  non functional  \n",
            "\n",
            "[5 rows x 24 columns]\n",
            "       amount_tsh  gps_height  longitude  latitude  num_private  \\\n",
            "id                                                                \n",
            "37098         NaN         NaN  31.985658 -3.596360          NaN   \n",
            "14530         NaN         NaN  32.832815 -4.944937          NaN   \n",
            "62607        10.0      1675.0  35.488289 -4.242048          NaN   \n",
            "46053         NaN         NaN  33.140828 -9.059386          NaN   \n",
            "47083        50.0      1109.0  34.217077 -4.430529          NaN   \n",
            "\n",
            "                 basin  region_code  district_code  population public_meeting  \\\n",
            "id                                                                              \n",
            "37098  Lake Tanganyika           17            5.0         NaN           True   \n",
            "14530  Lake Tanganyika           14            6.0         NaN           True   \n",
            "62607         Internal           21            1.0       148.0           True   \n",
            "46053       Lake Rukwa           12            6.0         NaN          False   \n",
            "47083         Internal           13            1.0       235.0           True   \n",
            "\n",
            "       ... extraction_type extraction_type_class   management  \\\n",
            "id     ...                                                      \n",
            "37098  ...           other                 other          wug   \n",
            "14530  ...   india mark ii              handpump          vwc   \n",
            "62607  ...         gravity               gravity  water board   \n",
            "46053  ...     nira/tanira              handpump          vwc   \n",
            "47083  ...            mono             motorpump          wua   \n",
            "\n",
            "      management_group payment_type water_quality      quantity        source  \\\n",
            "id                                                                              \n",
            "37098       user-group      unknown          soft           dry  shallow well   \n",
            "14530       user-group    never pay         milky  insufficient  shallow well   \n",
            "62607       user-group   per bucket          soft  insufficient        spring   \n",
            "46053       user-group    never pay          soft      seasonal  shallow well   \n",
            "47083       user-group   per bucket          soft        enough   machine dbh   \n",
            "\n",
            "      source_class              waterpoint_type  \n",
            "id                                               \n",
            "37098  groundwater                        other  \n",
            "14530  groundwater                    hand pump  \n",
            "62607  groundwater           communal standpipe  \n",
            "46053  groundwater                    hand pump  \n",
            "47083  groundwater  communal standpipe multiple  \n",
            "\n",
            "[5 rows x 23 columns]\n"
          ]
        }
      ],
      "source": [
        "df = wrangle(\"train_features.csv\", \"train_labels.csv\")\n",
        "X_test = wrangle(\"test_features.csv\")\n",
        "print(df.head())\n",
        "print(X_test.head())"
      ]
    },
    {
      "cell_type": "markdown",
      "metadata": {
        "id": "UoqjqkgFkWp2"
      },
      "source": [
        "# II. Split Data\n",
        "\n",
        "**Task 3:** Split your DataFrame `df` into a feature matrix `X` and the target vector `y`. You want to predict `'status_group'`."
      ]
    },
    {
      "cell_type": "code",
      "execution_count": null,
      "metadata": {
        "id": "hVYTSSgwkWp3"
      },
      "outputs": [],
      "source": [
        "X = df.drop(['status_group'], axis=1)\n",
        "y = df['status_group']"
      ]
    },
    {
      "cell_type": "markdown",
      "metadata": {
        "id": "V0oB-SEMkWp4"
      },
      "source": [
        "**Task 4:** Using a randomized split, divide `X` and `y` into a training set (`X_train`, `y_train`) and a validation set (`X_val`, `y_val`)."
      ]
    },
    {
      "cell_type": "code",
      "execution_count": null,
      "metadata": {
        "id": "ggyDXhMEkWp4"
      },
      "outputs": [],
      "source": [
        "X_train, X_val, y_train, y_val = train_test_split(X, y, test_size=0.2, random_state=42)"
      ]
    },
    {
      "cell_type": "markdown",
      "metadata": {
        "id": "WZp6XfVWkWp5"
      },
      "source": [
        "# III. Establish Baseline\n",
        "\n",
        "**Task 5:** Since this is a **classification** problem, you should establish a baseline accuracy score. Figure out what is the majority class in `y_train` and what percentage of your training observations it represents."
      ]
    },
    {
      "cell_type": "code",
      "execution_count": null,
      "metadata": {
        "id": "q486E4aOkWp5",
        "colab": {
          "base_uri": "https://localhost:8080/"
        },
        "outputId": "097f1aaf-a81a-4832-94b6-1573f4e0dfec"
      },
      "outputs": [
        {
          "output_type": "stream",
          "name": "stdout",
          "text": [
            "Baseline Accuracy Score: 0.5425489938182296\n"
          ]
        }
      ],
      "source": [
        "model_dum = DummyClassifier(strategy='prior').fit(X_train, y_train)\n",
        "baseline_acc = accuracy_score(y_train, model_dum.predict(X_train))\n",
        "print('Baseline Accuracy Score:', baseline_acc)"
      ]
    },
    {
      "cell_type": "markdown",
      "metadata": {
        "id": "PvBN3r3NkWp5"
      },
      "source": [
        "# IV. Build Model\n",
        "\n",
        "**Task 6:** Build a `Pipeline` named `model_dt`, and fit it to your training data. Your `Pipeline` should include:\n",
        "\n",
        "- an `OrdinalEncoder` transformer for categorical features.\n",
        "- a `SimpleImputer` transformer fot missing values.\n",
        "- a `DecisionTreeClassifier` predictor.\n",
        "\n",
        "**Note:** Don't forget to set the `random_state` parameter for your `DecisionTreeClassifier`."
      ]
    },
    {
      "cell_type": "code",
      "execution_count": null,
      "metadata": {
        "id": "U1cyDtHQkWp6"
      },
      "outputs": [],
      "source": [
        "model_dt = make_pipeline(OrdinalEncoder(), SimpleImputer(), DecisionTreeClassifier(random_state=42)).fit(X_train, y_train)"
      ]
    },
    {
      "cell_type": "markdown",
      "metadata": {
        "id": "6cudnpHxkWp6"
      },
      "source": [
        "# V. Check Metrics\n",
        "\n",
        "**Task 7:** Calculate the training and validation accuracy scores for `model_dt`."
      ]
    },
    {
      "cell_type": "code",
      "execution_count": null,
      "metadata": {
        "id": "KZAWlZwNkWp7",
        "colab": {
          "base_uri": "https://localhost:8080/"
        },
        "outputId": "52150153-31d3-4d24-9f3a-e9a1bd226c82"
      },
      "outputs": [
        {
          "output_type": "stream",
          "name": "stdout",
          "text": [
            "Training Accuracy Score: 0.995475470209128\n",
            "Validation Accuracy Score: 0.7442129629629629\n"
          ]
        }
      ],
      "source": [
        "training_acc = accuracy_score(y_train, model_dt.predict(X_train))\n",
        "val_acc = accuracy_score(y_val, model_dt.predict(X_val))\n",
        "\n",
        "print('Training Accuracy Score:', training_acc)\n",
        "print('Validation Accuracy Score:', val_acc)"
      ]
    },
    {
      "cell_type": "markdown",
      "metadata": {
        "id": "N2knklRkkWp7"
      },
      "source": [
        "# VI. Tune Model\n",
        "\n",
        "**Task 8:** Is there a large difference between your training and validation accuracy? If so, experiment with different setting for `max_depth` in your `DecisionTreeClassifier` to reduce the amount of overfitting in your model."
      ]
    },
    {
      "cell_type": "code",
      "execution_count": null,
      "metadata": {
        "id": "MpHKPH0bkWp7",
        "colab": {
          "base_uri": "https://localhost:8080/"
        },
        "outputId": "cf96aa68-7f72-40b7-c562-9f88bdb9151a"
      },
      "outputs": [
        {
          "output_type": "stream",
          "name": "stdout",
          "text": [
            "Tree Depth:  37\n",
            "Tree Nodes:  15197\n",
            "New Training Accuracy Score: 0.8708667631198211\n",
            "New Validation Accuracy Score: 0.7761994949494949\n",
            "New Tree Depth:  28\n",
            "New Tree Nodes:  3999\n"
          ]
        }
      ],
      "source": [
        "# Use this cell to experiment and then change \n",
        "# your model hyperparameters in Task 6\n",
        "print(\"Tree Depth: \", model_dt.named_steps['decisiontreeclassifier'].tree_.max_depth)\n",
        "print(\"Tree Nodes: \", model_dt.named_steps['decisiontreeclassifier'].tree_.node_count)\n",
        "\n",
        "# new model + tests below\n",
        "model_dtv2 = make_pipeline(OrdinalEncoder(drop_invariant=True), SimpleImputer(strategy='most_frequent'), \n",
        "                           DecisionTreeClassifier(random_state=42, max_leaf_nodes=2000, max_depth=30,\n",
        "                                                  max_features=0.5)).fit(X_train, y_train)\n",
        "\n",
        "training_acc2 = accuracy_score(y_train, model_dtv2.predict(X_train))\n",
        "val_acc2 = accuracy_score(y_val, model_dtv2.predict(X_val))\n",
        "\n",
        "print('New Training Accuracy Score:', training_acc2)\n",
        "print('New Validation Accuracy Score:', val_acc2)\n",
        "\n",
        "print(\"New Tree Depth: \", model_dtv2.named_steps['decisiontreeclassifier'].tree_.max_depth)\n",
        "print(\"New Tree Nodes: \", model_dtv2.named_steps['decisiontreeclassifier'].tree_.node_count)"
      ]
    },
    {
      "cell_type": "code",
      "source": [
        "\n",
        "# Generate test results with the revised model above\n",
        "\n",
        "predictions = pd.DataFrame(data=model_dtv2.predict(X_test), index=X_test.index)\n",
        "predictions.columns = ['status_group']\n",
        "\n",
        "# generate CSV\n",
        "predictions.to_csv('submission_jd_1.csv', )\n",
        "# download\n",
        "from google.colab import files\n",
        "files.download(\"submission_jd_1.csv\")\n"
      ],
      "metadata": {
        "colab": {
          "base_uri": "https://localhost:8080/",
          "height": 17
        },
        "id": "q8Br4YGLG1_H",
        "outputId": "53cf162b-e144-444a-bfbf-e1c8810e0f6b"
      },
      "execution_count": null,
      "outputs": [
        {
          "output_type": "display_data",
          "data": {
            "text/plain": [
              "<IPython.core.display.Javascript object>"
            ],
            "application/javascript": [
              "\n",
              "    async function download(id, filename, size) {\n",
              "      if (!google.colab.kernel.accessAllowed) {\n",
              "        return;\n",
              "      }\n",
              "      const div = document.createElement('div');\n",
              "      const label = document.createElement('label');\n",
              "      label.textContent = `Downloading \"${filename}\": `;\n",
              "      div.appendChild(label);\n",
              "      const progress = document.createElement('progress');\n",
              "      progress.max = size;\n",
              "      div.appendChild(progress);\n",
              "      document.body.appendChild(div);\n",
              "\n",
              "      const buffers = [];\n",
              "      let downloaded = 0;\n",
              "\n",
              "      const channel = await google.colab.kernel.comms.open(id);\n",
              "      // Send a message to notify the kernel that we're ready.\n",
              "      channel.send({})\n",
              "\n",
              "      for await (const message of channel.messages) {\n",
              "        // Send a message to notify the kernel that we're ready.\n",
              "        channel.send({})\n",
              "        if (message.buffers) {\n",
              "          for (const buffer of message.buffers) {\n",
              "            buffers.push(buffer);\n",
              "            downloaded += buffer.byteLength;\n",
              "            progress.value = downloaded;\n",
              "          }\n",
              "        }\n",
              "      }\n",
              "      const blob = new Blob(buffers, {type: 'application/binary'});\n",
              "      const a = document.createElement('a');\n",
              "      a.href = window.URL.createObjectURL(blob);\n",
              "      a.download = filename;\n",
              "      div.appendChild(a);\n",
              "      a.click();\n",
              "      div.remove();\n",
              "    }\n",
              "  "
            ]
          },
          "metadata": {}
        },
        {
          "output_type": "display_data",
          "data": {
            "text/plain": [
              "<IPython.core.display.Javascript object>"
            ],
            "application/javascript": [
              "download(\"download_1418685b-5e25-4540-8a4f-feb3dd6d9dfa\", \"submission_jd_1.csv\", 225141)"
            ]
          },
          "metadata": {}
        }
      ]
    },
    {
      "cell_type": "markdown",
      "metadata": {
        "id": "GyUesX8jkWp8"
      },
      "source": [
        "# VII. Communicate Results\n",
        "\n",
        "**Task 9 `stretch goal`:** Create a horizontal barchart that shows the the 10 most important features for model_dt, sorted by value.\n",
        "\n",
        "**Note:** [`DecisionTreeClassifier.feature_importances_`](https://scikit-learn.org/stable/modules/generated/sklearn.tree.DecisionTreeClassifier.html?highlight=decisiontreecla#sklearn.tree.DecisionTreeClassifier.feature_importances_) returns values that are different from [`LogisticRegression.coef_`](https://scikit-learn.org/stable/modules/generated/sklearn.linear_model.LogisticRegression.html). All the values will be positive, and they will sum to `1`."
      ]
    },
    {
      "cell_type": "code",
      "execution_count": null,
      "metadata": {
        "id": "sJ_MxogPkWp8",
        "colab": {
          "base_uri": "https://localhost:8080/",
          "height": 279
        },
        "outputId": "adbd5bba-feb6-4fd3-cf68-c3f38985a08c"
      },
      "outputs": [
        {
          "output_type": "display_data",
          "data": {
            "text/plain": [
              "<Figure size 432x288 with 1 Axes>"
            ],
            "image/png": "[encoded data removed]"
          },
          "metadata": {
            "needs_background": "light"
          }
        }
      ],
      "source": [
        "gini_imp = model_dt.named_steps['decisiontreeclassifier'].feature_importances_\n",
        "feats = model_dt.named_steps['ordinalencoder'].get_feature_names()\n",
        "pd.Series(data=gini_imp, index=feats).sort_values(key=abs).tail(10).plot(kind='barh')\n",
        "plt.ylabel('features')\n",
        "plt.xlabel('gini importance');"
      ]
    }
  ],
  "metadata": {
    "kernelspec": {
      "display_name": "Python 3",
      "language": "python",
      "name": "python3"
    },
    "language_info": {
      "codemirror_mode": {
        "name": "ipython",
        "version": 3
      },
      "file_extension": ".py",
      "mimetype": "text/x-python",
      "name": "python",
      "nbconvert_exporter": "python",
      "pygments_lexer": "ipython3",
      "version": "3.8.9"
    },
    "colab": {
      "name": "LS_DS_221_assignments_JD.ipynb",
      "provenance": [],
      "collapsed_sections": []
    }
  },
  "nbformat": 4,
  "nbformat_minor": 0
}