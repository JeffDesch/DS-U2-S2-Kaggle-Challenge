{
  "cells": [
    {
      "cell_type": "markdown",
      "metadata": {
        "id": "p9d97kBJlMlT"
      },
      "source": [
        "BloomTech Data Science\n",
        "\n",
        "*Unit 2, Sprint 2, Module 2*\n",
        "\n",
        "---"
      ]
    },
    {
      "cell_type": "code",
      "execution_count": null,
      "metadata": {
        "id": "WbYWqSeDlMlX"
      },
      "outputs": [],
      "source": [
        "%%capture\n",
        "import sys\n",
        "\n",
        "# If you're on Colab:\n",
        "if 'google.colab' in sys.modules:\n",
        "    DATA_PATH = 'https://raw.githubusercontent.com/LambdaSchool/DS-Unit-2-Kaggle-Challenge/main/data/'\n",
        "    !pip install category_encoders==2.*\n",
        "    !pip install pandas-profiling==2.*\n",
        "\n",
        "    #Connect to remote data\n",
        "    from google.colab import drive\n",
        "    drive.mount('/content/drive', force_remount=True)\n",
        "    %cd /content/drive/My Drive/Kaggle\n",
        "\n",
        "# If you're working locally:\n",
        "else:\n",
        "    DATA_PATH = '../data/'"
      ]
    },
    {
      "cell_type": "markdown",
      "metadata": {
        "id": "mndeeDLhlMla"
      },
      "source": [
        "# Module Project: Random Forests"
      ]
    },
    {
      "cell_type": "markdown",
      "metadata": {
        "id": "7Hjgrkd2lMlb"
      },
      "source": [
        "This week, the module projects will focus on creating and improving a model for the Tanazania Water Pump datset. Your goal is to create a model to predict whether a water pump is functional, non-functional, or needs repair.\n",
        "\n",
        "Dataset source: [DrivenData.org](https://www.drivendata.org/competitions/7/pump-it-up-data-mining-the-water-table/).\n",
        "\n",
        "## Directions\n",
        "\n",
        "The tasks for this project are as follows:\n",
        "\n",
        "- **Task 1:** Sign up for a [Kaggle](https://www.kaggle.com/) account.\n",
        "- **Task 2:** Use `wrangle` function to import training and test data.\n",
        "- **Task 3:** Split training data into feature matrix `X` and target vector `y`.\n",
        "- **Task 4:** Split feature matrix `X` and target vector `y` into training and test sets.\n",
        "- **Task 5:** Establish the baseline accuracy score for your dataset.\n",
        "- **Task 6:** Build and train `model_dt`.\n",
        "- **Task 7:** Calculate the training and validation accuracy score for your model.\n",
        "- **Task 8:** Adjust model's `max_depth` to reduce overfitting.\n",
        "- **Task 9 `stretch goal`:** Create a horizontal bar chart showing the 10 most important features for your model.\n",
        "\n",
        "You should limit yourself to the following libraries for this project:\n",
        "\n",
        "- `category_encoders`\n",
        "- `matplotlib`\n",
        "- `pandas`\n",
        "- `pandas-profiling`\n",
        "- `sklearn`\n",
        "\n",
        "# I. Wrangle Data"
      ]
    },
    {
      "cell_type": "code",
      "source": [
        "# Import Block\n",
        "import pandas as pd\n",
        "import numpy as np\n",
        "from datetime import datetime, date\n",
        "from sklearn.model_selection import train_test_split\n",
        "from sklearn.dummy import DummyClassifier\n",
        "from sklearn.pipeline import make_pipeline\n",
        "from category_encoders import OrdinalEncoder\n",
        "from sklearn.impute import SimpleImputer\n",
        "from sklearn.ensemble import RandomForestClassifier\n",
        "from sklearn.metrics import accuracy_score\n",
        "import matplotlib.pyplot as plt"
      ],
      "metadata": {
        "id": "vX1jBQR9xTDw"
      },
      "execution_count": null,
      "outputs": []
    },
    {
      "cell_type": "code",
      "execution_count": null,
      "metadata": {
        "id": "N_8W_aczlMlc"
      },
      "outputs": [],
      "source": [
        "def wrangle(fm_path, tv_path=None):\n",
        "    if tv_path:\n",
        "        df = pd.merge(pd.read_csv(fm_path, \n",
        "                                  na_values=[0, -2.000000e-08]),\n",
        "                      pd.read_csv(tv_path)).set_index('id')\n",
        "    else:\n",
        "        df = pd.read_csv(fm_path, \n",
        "                         na_values=[0, -2.000000e-08],\n",
        "                         index_col='id')\n",
        "        \n",
        "    # Build new Pump Age feature\n",
        "    df['pump_age'] = pd.to_datetime(df['date_recorded']).dt.year - pd.to_datetime(df['construction_year']).dt.year\n",
        "    df.drop(columns=['date_recorded'], inplace=True)\n",
        "\n",
        "    # Drop constant columns\n",
        "    df.drop(columns=['recorded_by'], inplace=True)\n",
        "\n",
        "    # Drop duplicate columns\n",
        "    #automatic method is too unreliable\n",
        "    #dupe_cols = [col for col in df.head(50).T.duplicated().index\n",
        "    #             if df.head(50).T.duplicated()[col]]\n",
        "    dupe_cols = ['subvillage', 'region', 'extraction_type_group', 'payment', \n",
        "                 'quality_group', 'quantity_group', 'source_type', 'waterpoint_type_group']\n",
        "    df.drop(columns=dupe_cols, inplace=True)    \n",
        "\n",
        "    # Drop HCCCs\n",
        "    cutoff = 100\n",
        "    drop_cols = [col for col in df.select_dtypes('object').columns\n",
        "                 if df[col].nunique() > cutoff]\n",
        "    df.drop(columns=drop_cols, inplace=True)\n",
        "\n",
        "    return df"
      ]
    },
    {
      "cell_type": "markdown",
      "metadata": {
        "id": "ZHjBqOf-lMld"
      },
      "source": [
        "**Task 1:** Sign up for a [Kaggle](https://www.kaggle.com/) account. Choose a username that's based on your real name. Like GitHub, Kaggle is part of your public profile as a data scientist.\n",
        "\n",
        "**Task 2:** Modify the `wrangle` function to engineer a `'pump_age'` feature. Then use the function to read `train_features.csv` and `train_labels.csv` into the DataFrame `df`, and `test_features.csv` into the DataFrame `X_test`."
      ]
    },
    {
      "cell_type": "code",
      "execution_count": null,
      "metadata": {
        "id": "4ZLek2JQlMld"
      },
      "outputs": [],
      "source": [
        "df = wrangle(\"train_features.csv\", \"train_labels.csv\")\n",
        "X_test = wrangle(\"test_features.csv\")"
      ]
    },
    {
      "cell_type": "markdown",
      "metadata": {
        "id": "m5l3qIk2lMle"
      },
      "source": [
        "# II. Split Data\n",
        "\n",
        "**Task 3:** Split your DataFrame `df` into a feature matrix `X` and the target vector `y`. You want to predict `'status_group'`."
      ]
    },
    {
      "cell_type": "code",
      "execution_count": null,
      "metadata": {
        "id": "dt35spMjlMlf"
      },
      "outputs": [],
      "source": [
        "X = df.drop(columns=['status_group'])\n",
        "y = df['status_group']"
      ]
    },
    {
      "cell_type": "markdown",
      "metadata": {
        "id": "u7K825WxlMlg"
      },
      "source": [
        "**Task 4:** Using a randomized split, divide `X` and `y` into a training set (`X_train`, `y_train`) and a validation set (`X_val`, `y_val`)."
      ]
    },
    {
      "cell_type": "code",
      "execution_count": null,
      "metadata": {
        "id": "9LXS5_VylMlg"
      },
      "outputs": [],
      "source": [
        "X_train, X_val, y_train, y_val = X_train, X_val, y_train, y_val = train_test_split(X, y, test_size=0.2, random_state=42)"
      ]
    },
    {
      "cell_type": "markdown",
      "metadata": {
        "id": "vKOGF1KGlMlh"
      },
      "source": [
        "# III. Establish Baseline\n",
        "\n",
        "**Task 5:** Since this is a **classification** problem, you should establish a baseline accuracy score. Figure out what is the majority class in `y_train` and what percentage of your training observations it represents."
      ]
    },
    {
      "cell_type": "code",
      "execution_count": null,
      "metadata": {
        "id": "WYpJ-i7plMlh",
        "colab": {
          "base_uri": "https://localhost:8080/"
        },
        "outputId": "81ece97b-754c-4a07-dc40-1f6c724a8a1e"
      },
      "outputs": [
        {
          "output_type": "stream",
          "name": "stdout",
          "text": [
            "Baseline Accuracy Score: 0.5425489938182296\n"
          ]
        }
      ],
      "source": [
        "model_dum = DummyClassifier(strategy='prior').fit(X_train, y_train)\n",
        "baseline_acc = accuracy_score(y_train, model_dum.predict(X_train))\n",
        "print('Baseline Accuracy Score:', baseline_acc)"
      ]
    },
    {
      "cell_type": "markdown",
      "metadata": {
        "id": "YlkKFChAlMlh"
      },
      "source": [
        "# IV. Build Model\n",
        "\n",
        "**Task 6:** Build a `Pipeline` named `model_rf`, and fit it to your training data. Your `Pipeline` should include:\n",
        "\n",
        "- an `OrdinalEncoder` transformer for categorical features.\n",
        "- a `SimpleImputer` transformer fot missing values.\n",
        "- a `RandomForestClassifier` predictor.\n",
        "\n",
        "**Note:** Don't forget to set the `random_state` parameter for your `RandomForestClassifier`. Also, to decrease training time, set `n_jobs` to `-1`."
      ]
    },
    {
      "cell_type": "code",
      "execution_count": null,
      "metadata": {
        "id": "4TT-BKu0lMli"
      },
      "outputs": [],
      "source": [
        "model_rf = make_pipeline(OrdinalEncoder(), SimpleImputer(), RandomForestClassifier(random_state=42, n_jobs=-1)).fit(X_train, y_train)"
      ]
    },
    {
      "cell_type": "markdown",
      "metadata": {
        "id": "4HshqQLhlMli"
      },
      "source": [
        "# V. Check Metrics\n",
        "\n",
        "**Task 7:** Calculate the training and validation accuracy scores for `model_rf`."
      ]
    },
    {
      "cell_type": "code",
      "execution_count": null,
      "metadata": {
        "id": "njM-g-n-lMlj",
        "colab": {
          "base_uri": "https://localhost:8080/"
        },
        "outputId": "6a6d8731-7f40-4047-aa69-9860756c321e"
      },
      "outputs": [
        {
          "output_type": "stream",
          "name": "stdout",
          "text": [
            "Training Accuracy Score: 0.9953965539918453\n",
            "Validation Accuracy Score: 0.7967171717171717\n"
          ]
        }
      ],
      "source": [
        "training_acc = accuracy_score(y_train, model_rf.predict(X_train))\n",
        "val_acc = accuracy_score(y_val, model_rf.predict(X_val))\n",
        "\n",
        "print('Training Accuracy Score:', training_acc)\n",
        "print('Validation Accuracy Score:', val_acc)"
      ]
    },
    {
      "cell_type": "markdown",
      "metadata": {
        "id": "1Ywqh7kNlMlj"
      },
      "source": [
        "# VI. Tune Model\n",
        "\n",
        "**Task 8:** Tune `n_estimators` and `max_depth` hyperparameters for your `RandomForestClassifier` to get the best validation accuracy score for `model_rf`. "
      ]
    },
    {
      "cell_type": "code",
      "execution_count": null,
      "metadata": {
        "id": "FwRIE-2KlMlj",
        "colab": {
          "base_uri": "https://localhost:8080/"
        },
        "outputId": "6c329987-5764-444b-b84b-cc5f42fd4a63"
      },
      "outputs": [
        {
          "output_type": "stream",
          "name": "stdout",
          "text": [
            "Default Model Parameters:\n",
            "Tree Count:  100\n",
            "Avg. Tree Depth:  39.51\n",
            "Avg. Tree Nodes:  14942.22\n",
            ".........................\n",
            "New Training Accuracy Score: 0.929790872024201\n",
            "New Validation Accuracy Score: 0.8036616161616161\n",
            "Tuned Model Parameters:\n",
            "Tree Count:  100\n",
            "Avg. Tree Depth:  33.84\n",
            "Avg. Tree Nodes:  6199.0\n"
          ]
        }
      ],
      "source": [
        "# Use this cell to experiment and then change \n",
        "# your model hyperparameters in Task 6\n",
        "print(\"Default Model Parameters:\")\n",
        "print(\"Tree Count: \", len(model_rf.named_steps['randomforestclassifier'].estimators_))\n",
        "print(\"Avg. Tree Depth: \", np.mean([estimator.get_depth() for estimator in model_rf.named_steps['randomforestclassifier'].estimators_]))\n",
        "print(\"Avg. Tree Nodes: \", np.mean([estimator.tree_.node_count for estimator in model_rf.named_steps['randomforestclassifier'].estimators_]))\n",
        "print(\".........................\")\n",
        "\n",
        "# new model + tests below\n",
        "model_rfv2 = make_pipeline(OrdinalEncoder(drop_invariant=True), SimpleImputer(strategy='mean'), \n",
        "                           RandomForestClassifier(random_state=42, n_jobs=-1, n_estimators=100, max_samples=0.5,\n",
        "                                                  max_depth=35, max_leaf_nodes=3100, max_features=0.4)).fit(X_train, y_train)\n",
        "\n",
        "training_acc2 = accuracy_score(y_train, model_rfv2.predict(X_train))\n",
        "val_acc2 = accuracy_score(y_val, model_rfv2.predict(X_val))\n",
        "\n",
        "print('New Training Accuracy Score:', training_acc2)\n",
        "print('New Validation Accuracy Score:', val_acc2)\n",
        "print(\"Tuned Model Parameters:\")\n",
        "print(\"Tree Count: \", len(model_rfv2.named_steps['randomforestclassifier'].estimators_))\n",
        "print(\"Avg. Tree Depth: \", np.mean([estimator.get_depth() for estimator in model_rfv2.named_steps['randomforestclassifier'].estimators_]))\n",
        "print(\"Avg. Tree Nodes: \", np.mean([estimator.tree_.node_count for estimator in model_rfv2.named_steps['randomforestclassifier'].estimators_]))\n"
      ]
    },
    {
      "cell_type": "markdown",
      "metadata": {
        "id": "_Y93mJhxlMlk"
      },
      "source": [
        "# VII. Communicate Results\n",
        "\n",
        "**Task 9:** Generate a list of predictions for `X_test`. The list should be named `y_pred`."
      ]
    },
    {
      "cell_type": "code",
      "execution_count": null,
      "metadata": {
        "id": "vmDft6xBlMlk",
        "colab": {
          "base_uri": "https://localhost:8080/",
          "height": 279
        },
        "outputId": "c67c0ee8-2f1e-43ea-f2e6-5cf15fcc865c"
      },
      "outputs": [
        {
          "output_type": "display_data",
          "data": {
            "text/plain": [
              "<Figure size 432x288 with 1 Axes>"
            ],
            "image/png": "[encoded data removed]"
          },
          "metadata": {
            "needs_background": "light"
          }
        }
      ],
      "source": [
        "y_pred = model_rf.predict(X_test)\n",
        "assert len(y_pred) == len(X_test), f'Your list of predictions should have {len(X_test)} items in it. '\n",
        "\n",
        "gini_imp = model_rf.named_steps['randomforestclassifier'].feature_importances_\n",
        "feats = model_rf.named_steps['ordinalencoder'].get_feature_names()\n",
        "pd.Series(data=gini_imp, index=feats).sort_values(key=abs).tail(10).plot(kind='barh')\n",
        "plt.ylabel('features')\n",
        "plt.xlabel('gini importance');"
      ]
    },
    {
      "cell_type": "markdown",
      "metadata": {
        "id": "pslXEeEglMlk"
      },
      "source": [
        "**Task 11 `stretch goal`:** Create a DataFrame `submission` whose index is the same as `X_test` and that has one column `'status_group'` with your predictions. Next, save this DataFrame as a CSV file and upload your submissions to our competition site. \n",
        "\n",
        "**Note:** Check the `sample_submission.csv` file on the competition website to make sure your submissions follows the same formatting. "
      ]
    },
    {
      "cell_type": "code",
      "execution_count": null,
      "metadata": {
        "id": "DMlV1o0tlMll",
        "colab": {
          "base_uri": "https://localhost:8080/",
          "height": 17
        },
        "outputId": "02bea874-9467-431e-9898-858b7ac5dc3a"
      },
      "outputs": [
        {
          "output_type": "display_data",
          "data": {
            "text/plain": [
              "<IPython.core.display.Javascript object>"
            ],
            "application/javascript": [
              "\n",
              "    async function download(id, filename, size) {\n",
              "      if (!google.colab.kernel.accessAllowed) {\n",
              "        return;\n",
              "      }\n",
              "      const div = document.createElement('div');\n",
              "      const label = document.createElement('label');\n",
              "      label.textContent = `Downloading \"${filename}\": `;\n",
              "      div.appendChild(label);\n",
              "      const progress = document.createElement('progress');\n",
              "      progress.max = size;\n",
              "      div.appendChild(progress);\n",
              "      document.body.appendChild(div);\n",
              "\n",
              "      const buffers = [];\n",
              "      let downloaded = 0;\n",
              "\n",
              "      const channel = await google.colab.kernel.comms.open(id);\n",
              "      // Send a message to notify the kernel that we're ready.\n",
              "      channel.send({})\n",
              "\n",
              "      for await (const message of channel.messages) {\n",
              "        // Send a message to notify the kernel that we're ready.\n",
              "        channel.send({})\n",
              "        if (message.buffers) {\n",
              "          for (const buffer of message.buffers) {\n",
              "            buffers.push(buffer);\n",
              "            downloaded += buffer.byteLength;\n",
              "            progress.value = downloaded;\n",
              "          }\n",
              "        }\n",
              "      }\n",
              "      const blob = new Blob(buffers, {type: 'application/binary'});\n",
              "      const a = document.createElement('a');\n",
              "      a.href = window.URL.createObjectURL(blob);\n",
              "      a.download = filename;\n",
              "      div.appendChild(a);\n",
              "      a.click();\n",
              "      div.remove();\n",
              "    }\n",
              "  "
            ]
          },
          "metadata": {}
        },
        {
          "output_type": "display_data",
          "data": {
            "text/plain": [
              "<IPython.core.display.Javascript object>"
            ],
            "application/javascript": [
              "download(\"download_aca71a4c-1b34-4184-a3e8-29123a6c01b0\", \"submission_jd_2.csv\", 225472)"
            ]
          },
          "metadata": {}
        }
      ],
      "source": [
        "# Generate test results with the revised model above\n",
        "\n",
        "submission = pd.DataFrame(data=model_rf.predict(X_test), index=X_test.index)\n",
        "submission.columns = ['status_group']\n",
        "\n",
        "# generate CSV\n",
        "submission.to_csv('submission_jd_2.csv', )\n",
        "# download\n",
        "from google.colab import files\n",
        "files.download(\"submission_jd_2.csv\")\n",
        "\n"
      ]
    }
  ],
  "metadata": {
    "kernelspec": {
      "display_name": "Python 3",
      "language": "python",
      "name": "python3"
    },
    "language_info": {
      "codemirror_mode": {
        "name": "ipython",
        "version": 3
      },
      "file_extension": ".py",
      "mimetype": "text/x-python",
      "name": "python",
      "nbconvert_exporter": "python",
      "pygments_lexer": "ipython3",
      "version": "3.8.9"
    },
    "colab": {
      "name": "LS_DS_222_assignment_JD.ipynb",
      "provenance": []
    }
  },
  "nbformat": 4,
  "nbformat_minor": 0
}